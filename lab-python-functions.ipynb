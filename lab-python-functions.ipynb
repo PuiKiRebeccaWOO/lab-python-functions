{
 "cells": [
  {
   "cell_type": "markdown",
   "id": "25d7736c-ba17-4aff-b6bb-66eba20fbf4e",
   "metadata": {},
   "source": [
    "# Lab | Functions"
   ]
  },
  {
   "cell_type": "markdown",
   "id": "0c581062-8967-4d93-b06e-62833222f930",
   "metadata": {
    "tags": []
   },
   "source": [
    "## Exercise: Managing Customer Orders with Functions\n",
    "\n",
    "In the previous exercise, you improved the code for managing customer orders by using loops and flow control. Now, let's take it a step further and refactor the code by introducing functions.\n",
    "\n",
    "Follow the steps below to complete the exercise:\n",
    "\n",
    "1. Define a function named `initialize_inventory` that takes `products` as a parameter. Inside the function, implement the code for initializing the inventory dictionary using a loop and user input.\n",
    "\n",
    "2. Define a function named `get_customer_orders` that takes no parameters. Inside the function, implement the code for prompting the user to enter the product names using a loop. The function should return the `customer_orders` set.\n",
    "\n",
    "3. Define a function named `update_inventory` that takes `customer_orders` and `inventory` as parameters. Inside the function, implement the code for updating the inventory dictionary based on the customer orders.\n",
    "\n",
    "4. Define a function named `calculate_order_statistics` that takes `customer_orders` and `products` as parameters. Inside the function, implement the code for calculating the order statistics (total products ordered, and percentage of unique products ordered). The function should return these values.\n",
    "\n",
    "5. Define a function named `print_order_statistics` that takes `order_statistics` as a parameter. Inside the function, implement the code for printing the order statistics.\n",
    "\n",
    "6. Define a function named `print_updated_inventory` that takes `inventory` as a parameter. Inside the function, implement the code for printing the updated inventory.\n",
    "\n",
    "7. Call the functions in the appropriate sequence to execute the program and manage customer orders.\n",
    "\n",
    "Hints for functions:\n",
    "\n",
    "- Consider the input parameters required for each function and their return values.\n",
    "- Utilize function parameters and return values to transfer data between functions.\n",
    "- Test your functions individually to ensure they work correctly.\n",
    "\n",
    "\n"
   ]
  },
  {
   "cell_type": "code",
   "execution_count": 3,
   "id": "6e91d2b0-6bc8-48bc-ab16-23cf96065372",
   "metadata": {},
   "outputs": [],
   "source": [
    "# # def initialize_inventory(products):\n",
    "# inventory_dict = {}\n",
    "\n",
    "# # for product in inventory_dict:\n",
    "# product = input(\"Enter the names of product: \")\n",
    "# qty = input(\"Enter the quantity of product: \")\n",
    "# inventory_dict[product] = qty\n",
    "# inventory_dict"
   ]
  },
  {
   "cell_type": "code",
   "execution_count": 4,
   "id": "3054563f-8420-4742-906f-8308dc2009c7",
   "metadata": {},
   "outputs": [],
   "source": [
    "def initialize_inventory():\n",
    "    \"\"\"\n",
    "    Initialize the inventory dictionary with user-specified quantities.\n",
    "\n",
    "    Returns:\n",
    "        dict: A dictionary with product names as keys and quantities as values.\n",
    "    \"\"\"\n",
    "    inventory = {}\n",
    "    print(\"Enter the product names and their quantities. Type 'done' to finish.\")\n",
    "    while True:\n",
    "        product = input(\"Enter the name of the product: \").strip()\n",
    "        if product.lower() == 'done':\n",
    "            break\n",
    "        \n",
    "        while True:\n",
    "            try:\n",
    "                qty = int(input(f\"Enter the quantity for {product}: \").strip())\n",
    "                if qty < 0:\n",
    "                    print(\"Quantity cannot be negative. Please try again.\")\n",
    "                    continue\n",
    "                break\n",
    "            except ValueError:\n",
    "                print(\"Invalid input. Please enter a whole number.\")\n",
    "        \n",
    "        inventory[product] = qty\n",
    "    \n",
    "    return inventory"
   ]
  },
  {
   "cell_type": "code",
   "execution_count": 5,
   "id": "6ec04b30-8a91-47c1-bd3c-41c9f84a4834",
   "metadata": {},
   "outputs": [],
   "source": [
    "def get_customer_orders():\n",
    "    \"\"\"\n",
    "    Prompt the user to enter product names and return a set of customer orders.\n",
    "    \n",
    "    Returns:\n",
    "        set: A set containing the names of the products ordered by the customer.\n",
    "    \"\"\"\n",
    "    customer_orders = set()\n",
    "    \n",
    "    print(\"Enter the product names for the order. Type 'done' when finished.\")\n",
    "    while True:\n",
    "        product = input(\"Enter the name of a product (or type 'done' to finish): \").strip().lower()\n",
    "        \n",
    "        if product == \"done\":\n",
    "            break\n",
    "        \n",
    "        if product:\n",
    "            customer_orders.add(product)\n",
    "            print(f\"'{product}' has been added to your order.\")\n",
    "        else:\n",
    "            print(\"Product name cannot be empty. Please try again.\")\n",
    "    \n",
    "    return customer_orders"
   ]
  },
  {
   "cell_type": "code",
   "execution_count": 6,
   "id": "328ca1bc-5fa1-4201-b66c-c1bc08571ef8",
   "metadata": {},
   "outputs": [],
   "source": [
    "def update_inventory(inventory, customer_orders):\n",
    "    \"\"\"\n",
    "    Update the inventory based on the products in the customer orders.\n",
    "    \n",
    "    Args:\n",
    "        inventory (dict): The inventory dictionary to be updated.\n",
    "        customer_orders (set): The set of products ordered by the customer.\n",
    "    \"\"\"\n",
    "    for ordered_product in customer_orders:\n",
    "        if ordered_product in inventory:\n",
    "            if inventory[ordered_product] > 0:\n",
    "                inventory[ordered_product] -= 1\n",
    "            else:\n",
    "                print(f\"'{ordered_product}' is out of stock and cannot be fulfilled.\")\n",
    "        else:\n",
    "            print(f\"'{ordered_product}' does not exist in the inventory.\")\n",
    "\n",
    "    print_updated_inventory(inventory)"
   ]
  },
  {
   "cell_type": "code",
   "execution_count": 7,
   "id": "fa52aafc-eab5-4e1f-99e7-6b24c21213a6",
   "metadata": {},
   "outputs": [],
   "source": [
    "def calculate_order_statistics(customer_orders, products):\n",
    "    \"\"\"\n",
    "    Calculate order statistics including total products ordered and \n",
    "    percentage of unique products ordered.\n",
    "    \n",
    "    Args:\n",
    "        customer_orders (set): Set of products ordered by the customer.\n",
    "        products (list): List of all available products.\n",
    "\n",
    "    Returns:\n",
    "        dict: A dictionary containing total products ordered and percentage of unique products ordered.\n",
    "    \"\"\"\n",
    "    total_ordered = len(customer_orders)\n",
    "    unique_percentage = (total_ordered / len(products)) * 100 if products else 0\n",
    "    return {\n",
    "        \"total_ordered\": total_ordered,\n",
    "        \"unique_percentage\": unique_percentage\n",
    "    }"
   ]
  },
  {
   "cell_type": "code",
   "execution_count": 8,
   "id": "e766b070-21c3-4c66-8338-1f2fe39ed577",
   "metadata": {},
   "outputs": [],
   "source": [
    "def print_order_statistics(order_statistics):\n",
    "    \"\"\"\n",
    "    Print the order statistics in a readable format.\n",
    "    \n",
    "    Args:\n",
    "        order_statistics (dict): Dictionary containing order statistics.\n",
    "    \"\"\"\n",
    "    print(\"\\nOrder Statistics:\")\n",
    "    print(f\"Total products ordered: {order_statistics['total_ordered']}\")\n",
    "    print(f\"Percentage of unique products ordered: {order_statistics['unique_percentage']:.2f}%\")\n",
    "\n"
   ]
  },
  {
   "cell_type": "code",
   "execution_count": 9,
   "id": "170f8146-7efc-48f4-822a-63cf31a5c1d6",
   "metadata": {},
   "outputs": [],
   "source": [
    "def print_updated_inventory(inventory):\n",
    "    \"\"\"\n",
    "    Print the updated inventory with product names and quantities.\n",
    "    \n",
    "    Args:\n",
    "        inventory (dict): Dictionary containing inventory products and their quantities.\n",
    "    \"\"\"\n",
    "    print(\"\\nUpdated Inventory:\")\n",
    "    for product, qty in inventory.items():\n",
    "        print(f\"{product}: {qty}\")"
   ]
  },
  {
   "cell_type": "code",
   "execution_count": 10,
   "id": "61f4d1e7-975f-4db9-a145-1f6b6cde20eb",
   "metadata": {},
   "outputs": [
    {
     "name": "stdout",
     "output_type": "stream",
     "text": [
      "Enter the product names and their quantities. Type 'done' to finish.\n"
     ]
    },
    {
     "name": "stdin",
     "output_type": "stream",
     "text": [
      "Enter the name of the product:  book\n",
      "Enter the quantity for book:  10\n",
      "Enter the name of the product:  mug\n",
      "Enter the quantity for mug:  10\n",
      "Enter the name of the product:  key\n",
      "Enter the quantity for key:  10\n",
      "Enter the name of the product:  done\n"
     ]
    },
    {
     "name": "stdout",
     "output_type": "stream",
     "text": [
      "Enter the product names for the order. Type 'done' when finished.\n"
     ]
    },
    {
     "name": "stdin",
     "output_type": "stream",
     "text": [
      "Enter the name of a product (or type 'done' to finish):  book\n"
     ]
    },
    {
     "name": "stdout",
     "output_type": "stream",
     "text": [
      "'book' has been added to your order.\n"
     ]
    },
    {
     "name": "stdin",
     "output_type": "stream",
     "text": [
      "Enter the name of a product (or type 'done' to finish):  mug\n"
     ]
    },
    {
     "name": "stdout",
     "output_type": "stream",
     "text": [
      "'mug' has been added to your order.\n"
     ]
    },
    {
     "name": "stdin",
     "output_type": "stream",
     "text": [
      "Enter the name of a product (or type 'done' to finish):  done\n"
     ]
    },
    {
     "name": "stdout",
     "output_type": "stream",
     "text": [
      "\n",
      "Updated Inventory:\n",
      "book: 9\n",
      "mug: 9\n",
      "key: 10\n",
      "\n",
      "Order Statistics:\n",
      "Total products ordered: 2\n",
      "Percentage of unique products ordered: 66.67%\n"
     ]
    }
   ],
   "source": [
    "# Initialize the inventory\n",
    "inventory = initialize_inventory()\n",
    "\n",
    "# Get the customer's orders\n",
    "customer_orders = get_customer_orders()\n",
    "\n",
    "# List of all products from the inventory (for percentage calculation)\n",
    "products = list(inventory.keys())\n",
    "\n",
    "# Update the inventory based on the orders\n",
    "update_inventory(inventory, customer_orders)\n",
    "\n",
    "# Calculate order statistics\n",
    "order_statistics = calculate_order_statistics(customer_orders, products)\n",
    "\n",
    "# Print order statistics\n",
    "print_order_statistics(order_statistics)"
   ]
  },
  {
   "cell_type": "code",
   "execution_count": null,
   "id": "bb59c1f6-6139-4e50-bd4f-c544d2414edc",
   "metadata": {},
   "outputs": [],
   "source": []
  }
 ],
 "metadata": {
  "kernelspec": {
   "display_name": "Python 3 (ipykernel)",
   "language": "python",
   "name": "python3"
  },
  "language_info": {
   "codemirror_mode": {
    "name": "ipython",
    "version": 3
   },
   "file_extension": ".py",
   "mimetype": "text/x-python",
   "name": "python",
   "nbconvert_exporter": "python",
   "pygments_lexer": "ipython3",
   "version": "3.12.7"
  }
 },
 "nbformat": 4,
 "nbformat_minor": 5
}
